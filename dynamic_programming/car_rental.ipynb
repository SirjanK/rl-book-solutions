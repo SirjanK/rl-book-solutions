{
 "cells": [
  {
   "cell_type": "markdown",
   "id": "d372f7e2-eb20-4d07-9e43-c6a5aa4ded0c",
   "metadata": {},
   "source": [
    "# Jack's Car Rental Problem\n",
    "We implement policy iteration for the simple and advanced version of this and display the evolution of policies through the iteration along with a plot of the final value function."
   ]
  },
  {
   "cell_type": "code",
   "execution_count": null,
   "id": "434dac06",
   "metadata": {
    "vscode": {
     "languageId": "python"
    }
   },
   "outputs": [],
   "source": []
  }
 ],
 "metadata": {
  "kernelspec": {
   "display_name": "",
   "name": ""
  },
  "language_info": {
   "name": ""
  }
 },
 "nbformat": 4,
 "nbformat_minor": 5
}
