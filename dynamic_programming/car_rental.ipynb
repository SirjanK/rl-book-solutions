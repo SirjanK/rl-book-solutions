{
 "cells": [
  {
   "cell_type": "markdown",
   "id": "d372f7e2-eb20-4d07-9e43-c6a5aa4ded0c",
   "metadata": {},
   "source": [
    "# Jack's Car Rental Problem\n",
    "We implement policy iteration for the simple and advanced version of this and display the evolution of policies through the iteration along with a plot of the final value function."
   ]
  },
  {
   "cell_type": "markdown",
   "id": "056bcc64",
   "metadata": {},
   "source": [
    "## Simple Situation\n",
    "As described in the text of the book, we want to just replicate results by recreating the diagrams."
   ]
  },
  {
   "cell_type": "code",
   "execution_count": 38,
   "id": "73ddc7a2",
   "metadata": {},
   "outputs": [
    {
     "name": "stdout",
     "output_type": "stream",
     "text": [
      "The autoreload extension is already loaded. To reload it, use:\n",
      "  %reload_ext autoreload\n"
     ]
    }
   ],
   "source": [
    "from car_rental_simple import CarRentalSimpleSolver\n",
    "import matplotlib.pyplot as plt\n",
    "\n",
    "%load_ext autoreload\n",
    "%autoreload 2"
   ]
  },
  {
   "cell_type": "code",
   "execution_count": 44,
   "id": "80dddcd6",
   "metadata": {},
   "outputs": [],
   "source": [
    "# Constants describing the parameters of the problem\n",
    "RENT_MULTIPLIER = 10\n",
    "MOVE_COST = 2\n",
    "LAMBDA_LOC1_REQUESTS = 3\n",
    "LAMBDA_LOC2_REQUESTS = 4\n",
    "LAMBDA_LOC1_RETURNS = 3\n",
    "LAMBDA_LOC2_RETURNS = 2\n",
    "MAX_CAR_AT_LOC = 20\n",
    "MAX_CAR_MOVED = 5\n",
    "GAMMA = 0.9\n",
    "\n",
    "TOL = 1e-3"
   ]
  },
  {
   "cell_type": "code",
   "execution_count": 46,
   "id": "02334e27",
   "metadata": {},
   "outputs": [],
   "source": [
    "car_rental_solver = CarRentalSimpleSolver(\n",
    "    rent_multiplier=RENT_MULTIPLIER,\n",
    "    move_cost=MOVE_COST,\n",
    "    lambda_loc1_requests=LAMBDA_LOC1_REQUESTS,\n",
    "    lambda_loc2_requests=LAMBDA_LOC2_REQUESTS,\n",
    "    lambda_loc1_returns=LAMBDA_LOC1_RETURNS,\n",
    "    lambda_loc2_returns=LAMBDA_LOC2_RETURNS,\n",
    "    max_car_at_loc=MAX_CAR_AT_LOC,\n",
    "    max_car_moved=MAX_CAR_MOVED,\n",
    "    gamma=GAMMA,\n",
    "    tol=TOL,\n",
    ")"
   ]
  },
  {
   "cell_type": "code",
   "execution_count": 47,
   "id": "b9d08740",
   "metadata": {},
   "outputs": [
    {
     "ename": "KeyboardInterrupt",
     "evalue": "",
     "output_type": "error",
     "traceback": [
      "\u001b[31m---------------------------------------------------------------------------\u001b[39m",
      "\u001b[31mKeyboardInterrupt\u001b[39m                         Traceback (most recent call last)",
      "\u001b[36mCell\u001b[39m\u001b[36m \u001b[39m\u001b[32mIn[47]\u001b[39m\u001b[32m, line 1\u001b[39m\n\u001b[32m----> \u001b[39m\u001b[32m1\u001b[39m policies, value_fn = \u001b[43mcar_rental_solver\u001b[49m\u001b[43m.\u001b[49m\u001b[43msolve\u001b[49m\u001b[43m(\u001b[49m\u001b[43mnum_iter\u001b[49m\u001b[43m=\u001b[49m\u001b[32;43m100\u001b[39;49m\u001b[43m)\u001b[49m\n",
      "\u001b[36mFile \u001b[39m\u001b[32m~/learning/reinforcement_learning/dynamic_programming/car_rental_simple.py:103\u001b[39m, in \u001b[36mCarRentalSimpleSolver.solve\u001b[39m\u001b[34m(self, num_iter)\u001b[39m\n\u001b[32m    100\u001b[39m \u001b[38;5;28mself\u001b[39m._policy_evaluation()\n\u001b[32m    102\u001b[39m \u001b[38;5;66;03m# 3. run policy improvement\u001b[39;00m\n\u001b[32m--> \u001b[39m\u001b[32m103\u001b[39m \u001b[38;5;28;43mself\u001b[39;49m\u001b[43m.\u001b[49m\u001b[43m_policy_improvement\u001b[49m\u001b[43m(\u001b[49m\u001b[43m)\u001b[49m\n\u001b[32m    104\u001b[39m \u001b[38;5;66;03m# append copy\u001b[39;00m\n\u001b[32m    105\u001b[39m policies.append(\u001b[38;5;28mself\u001b[39m._policy.copy())\n",
      "\u001b[36mFile \u001b[39m\u001b[32m~/learning/reinforcement_learning/dynamic_programming/car_rental_simple.py:201\u001b[39m, in \u001b[36mCarRentalSimpleSolver._policy_improvement\u001b[39m\u001b[34m(self)\u001b[39m\n\u001b[32m    199\u001b[39m max_action_value = -\u001b[38;5;28mfloat\u001b[39m(\u001b[33m\"\u001b[39m\u001b[33minf\u001b[39m\u001b[33m\"\u001b[39m)\n\u001b[32m    200\u001b[39m \u001b[38;5;28;01mfor\u001b[39;00m action \u001b[38;5;129;01min\u001b[39;00m \u001b[38;5;28mrange\u001b[39m(\u001b[38;5;28mmax\u001b[39m(-state_car1, -\u001b[38;5;28mself\u001b[39m._max_car_moved), \u001b[38;5;28mmin\u001b[39m(state_car2, \u001b[38;5;28mself\u001b[39m._max_car_moved) + \u001b[32m1\u001b[39m):\n\u001b[32m--> \u001b[39m\u001b[32m201\u001b[39m     expected_return = \u001b[38;5;28;43mself\u001b[39;49m\u001b[43m.\u001b[49m\u001b[43m_compute_expected_return_given_state_action\u001b[49m\u001b[43m(\u001b[49m\u001b[43mstate\u001b[49m\u001b[43m=\u001b[49m\u001b[43mstate\u001b[49m\u001b[43m,\u001b[49m\u001b[43m \u001b[49m\u001b[43maction\u001b[49m\u001b[43m=\u001b[49m\u001b[43maction\u001b[49m\u001b[43m)\u001b[49m\n\u001b[32m    203\u001b[39m     \u001b[38;5;28;01mif\u001b[39;00m expected_return > max_action_value:\n\u001b[32m    204\u001b[39m         max_action_value = expected_return\n",
      "\u001b[36mFile \u001b[39m\u001b[32m~/learning/reinforcement_learning/dynamic_programming/car_rental_simple.py:156\u001b[39m, in \u001b[36mCarRentalSimpleSolver._compute_expected_return_given_state_action\u001b[39m\u001b[34m(self, state, action)\u001b[39m\n\u001b[32m    153\u001b[39m     \u001b[38;5;66;03m# returns are independent\u001b[39;00m\n\u001b[32m    154\u001b[39m     pmf = pmf_loc1 * pmf_loc2\n\u001b[32m--> \u001b[39m\u001b[32m156\u001b[39m     weighted_next_state_contributions += pmf * \u001b[38;5;28mself\u001b[39m._value_fn[state_after_move1 + returns_loc1, state_after_move2 + returns_loc2]\n\u001b[32m    158\u001b[39m \u001b[38;5;28;01mreturn\u001b[39;00m expected_reward + \u001b[38;5;28mself\u001b[39m._gamma * weighted_next_state_contributions\n",
      "\u001b[31mKeyboardInterrupt\u001b[39m: "
     ]
    }
   ],
   "source": [
    "policies, value_fn = car_rental_solver.solve(num_iter=100)"
   ]
  },
  {
   "cell_type": "code",
   "execution_count": null,
   "id": "aa9c895b",
   "metadata": {},
   "outputs": [],
   "source": []
  },
  {
   "cell_type": "code",
   "execution_count": null,
   "id": "6409f3df",
   "metadata": {},
   "outputs": [],
   "source": []
  },
  {
   "cell_type": "code",
   "execution_count": null,
   "id": "28a1629d",
   "metadata": {},
   "outputs": [],
   "source": []
  },
  {
   "cell_type": "code",
   "execution_count": null,
   "id": "113179c3",
   "metadata": {},
   "outputs": [],
   "source": []
  },
  {
   "cell_type": "code",
   "execution_count": null,
   "id": "8468d8fb",
   "metadata": {},
   "outputs": [],
   "source": []
  },
  {
   "cell_type": "code",
   "execution_count": null,
   "id": "14427b6b",
   "metadata": {},
   "outputs": [],
   "source": []
  },
  {
   "cell_type": "code",
   "execution_count": null,
   "id": "7ed6d7df",
   "metadata": {},
   "outputs": [],
   "source": []
  },
  {
   "cell_type": "code",
   "execution_count": 31,
   "id": "434dac06",
   "metadata": {},
   "outputs": [
    {
     "name": "stdout",
     "output_type": "stream",
     "text": [
      "The autoreload extension is already loaded. To reload it, use:\n",
      "  %reload_ext autoreload\n"
     ]
    }
   ],
   "source": [
    "# testing for TruncatedPoisson\n",
    "from truncated_poisson import TruncatedPoisson\n",
    "import matplotlib.pyplot as plt\n",
    "import numpy as np\n",
    "%load_ext autoreload\n",
    "%autoreload 2"
   ]
  },
  {
   "cell_type": "code",
   "execution_count": 20,
   "id": "ad9109d2",
   "metadata": {},
   "outputs": [],
   "source": [
    "poisson = TruncatedPoisson(3, 20)"
   ]
  },
  {
   "cell_type": "code",
   "execution_count": 21,
   "id": "4226ac4e",
   "metadata": {},
   "outputs": [
    {
     "data": {
      "text/plain": [
       "np.float64(0.0)"
      ]
     },
     "execution_count": 21,
     "metadata": {},
     "output_type": "execute_result"
    }
   ],
   "source": [
    "poisson.expectation(0)"
   ]
  },
  {
   "cell_type": "code",
   "execution_count": 24,
   "id": "ca6493b2",
   "metadata": {},
   "outputs": [
    {
     "data": {
      "text/plain": [
       "np.float64(0.22404180765538775)"
      ]
     },
     "execution_count": 24,
     "metadata": {},
     "output_type": "execute_result"
    }
   ],
   "source": [
    "poisson.pmf(20, 3)"
   ]
  },
  {
   "cell_type": "code",
   "execution_count": 30,
   "id": "ab044836",
   "metadata": {},
   "outputs": [
    {
     "data": {
      "text/plain": [
       "np.float64(2.949297385759137)"
      ]
     },
     "execution_count": 30,
     "metadata": {},
     "output_type": "execute_result"
    }
   ],
   "source": [
    "poisson.expectation(6)"
   ]
  },
  {
   "cell_type": "code",
   "execution_count": 32,
   "id": "a8c766be",
   "metadata": {},
   "outputs": [
    {
     "data": {
      "text/plain": [
       "[<matplotlib.lines.Line2D at 0x106bf1bd0>]"
      ]
     },
     "execution_count": 32,
     "metadata": {},
     "output_type": "execute_result"
    },
    {
     "data": {
      "image/png": "[encoded data removed]",
      "text/plain": [
       "<Figure size 640x480 with 1 Axes>"
      ]
     },
     "metadata": {},
     "output_type": "display_data"
    }
   ],
   "source": [
    "x = np.arange(start=0, stop=21, step=1)\n",
    "plt.title(f\"Expected Truncated Poisson\")\n",
    "plt.xlabel(f\"Cap\")\n",
    "plt.ylabel(f\"Expectation\")\n",
    "plt.plot(x, poisson.expectation(x))"
   ]
  },
  {
   "cell_type": "code",
   "execution_count": null,
   "id": "4d28f7f5",
   "metadata": {},
   "outputs": [],
   "source": []
  }
 ],
 "metadata": {
  "kernelspec": {
   "display_name": ".venv",
   "language": "python",
   "name": "python3"
  },
  "language_info": {
   "codemirror_mode": {
    "name": "ipython",
    "version": 3
   },
   "file_extension": ".py",
   "mimetype": "text/x-python",
   "name": "python",
   "nbconvert_exporter": "python",
   "pygments_lexer": "ipython3",
   "version": "3.13.5"
  }
 },
 "nbformat": 4,
 "nbformat_minor": 5
}
